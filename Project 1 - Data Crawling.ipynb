{
 "cells": [
  {
   "cell_type": "markdown",
   "metadata": {},
   "source": [
    "## Crawling Data dari Twitter\n",
    "\n",
    "1. Setting Key dan Token\n",
    "2. Membuat objek dan autentifikasi KEY pada Twitter\n",
    "3. Melakukan authentifikasi ke Twitter API"
   ]
  },
  {
   "cell_type": "code",
   "execution_count": null,
   "metadata": {},
   "outputs": [],
   "source": [
    "import tweepy\n",
    "import json\n",
    "\n",
    "#kamu bisa mendapatkan access ini melalui Developer Twitter\n",
    "\n",
    "ACCESS_TOKEN = 'xxxxx'\n",
    "ACCESS_SECRET = 'xxxxx'\n",
    "CONSUMER_KEY = 'xxxxx'\n",
    "CONSUMER_SECRET = 'xxxxx'\n",
    "\n",
    "def connect_to_twitter_OAuth():\n",
    "    auth = tweepy.OAuthHandler (CONSUMER_KEY, CONSUMER_SECRET)\n",
    "    auth.set_access_token(ACCESS_TOKEN, ACCESS_SECRET)\n",
    "    \n",
    "    api = tweepy.API(auth)\n",
    "    return api\n",
    "\n",
    "api = connect_to_twitter_OAuth()\n",
    "\n",
    "public_tweets = api.home_timeline()"
   ]
  },
  {
   "cell_type": "markdown",
   "metadata": {},
   "source": [
    "### Beberapa fungsi pada python crawling untuk mengambil data "
   ]
  },
  {
   "cell_type": "code",
   "execution_count": null,
   "metadata": {},
   "outputs": [],
   "source": [
    "# melakukan crawling ke semua data public di home timeline\n",
    "for tweet in public_tweets:\n",
    "    print(tweet.text)\n",
    "    \n",
    "#melihat struktur JSON sebuah data tweet\n",
    "public_tweets[0]._json"
   ]
  },
  {
   "cell_type": "code",
   "execution_count": null,
   "metadata": {},
   "outputs": [],
   "source": [
    "#Mengambil Data 10 Status Pertama\n",
    "for status in tweepy.Cursor(api.home_timeline).items(10):\n",
    "    #process a single status\n",
    "    print (status.text)\n",
    "    \n",
    "#Menampilkan daftar pertemanan dari akun twitter\n",
    "for friend in tweepy.Cursor(api.friends).items():\n",
    "    print (friend.name)\n",
    "\n",
    "#Menampilkan tweet yang dikirm dari akun twitter sendiri\n",
    "for tweet in tweepy.Cursor(api.user_timeline).items():\n",
    "    print (tweet.text)\n",
    "\n",
    "# melakukan crawling 10 data public di home timeline \n",
    "for tweet in tweepy.Cursor(api.home_timeline).items(10):\n",
    "    print(tweet.text)\n",
    "\n",
    "#mengcrawl 5 data tweets dari 'detikcom'\n",
    "detik_tweets = api.user_timeline(id='detikcom', count=5)\n",
    "for tweet in detik_tweets:\n",
    "    print (tweet.text)\n",
    "\n",
    "#menampilkan data dalam bentuk JSON\n",
    "for status in tweepy.Cursor(api.home_timeline).items(10):\n",
    "    # process a single status\n",
    "    print (json.dumps(status._json))\n",
    "    \n",
    "def process_or_store(tweet):\n",
    "    print (json.dumps(tweet))\n",
    "\n",
    "for status in tweepy.Cursor(api.home_timeline()).items(10):\n",
    "    # process a single status\n",
    "    process_or_store(status._json)\n",
    "\n",
    "# menampilkan 5 data hasil crawling detikcom ke dalam format JSON\n",
    "for tweet in api.user_timeline(id=\"detikcom\", count=1):\n",
    "    print(json.dumps(tweet._json))\n",
    "    \n"
   ]
  },
  {
   "cell_type": "markdown",
   "metadata": {},
   "source": [
    "### Data Crawling Twitter dari Search Twitter"
   ]
  },
  {
   "cell_type": "code",
   "execution_count": null,
   "metadata": {},
   "outputs": [],
   "source": [
    "# mengambil tweets dengan taggar tertentu dg search\n",
    "for tweet in tweepy.Cursor(api.search,q=\"#bigdata\",\n",
    "                           lang=\"en\",\n",
    "                           since=\"2019-01-01\").items(1):\n",
    "    print(tweet.text)\n",
    "\n",
    "# mengambil item tertentu dari JSON tweets ke list\n",
    "tweets_data = []\n",
    "for tweet in tweepy.Cursor(api.search,q=\"#bigdata\",\n",
    "                           lang=\"en\",\n",
    "                           since=\"2019-01-01\").items(5):\n",
    "    tweets_data.append([tweet.author.screen_name,\n",
    "                        tweet.lang,\n",
    "                        tweet.created_at,\n",
    "                        tweet.favorite_count,\n",
    "                        tweet.retweet_count,\n",
    "                        tweet.text,\n",
    "                        tweet.user.location])\n",
    "print(tweets_data)\n"
   ]
  },
  {
   "cell_type": "markdown",
   "metadata": {},
   "source": [
    "### Menyajikan Data Crawling menjadi Data Frame"
   ]
  },
  {
   "cell_type": "code",
   "execution_count": null,
   "metadata": {},
   "outputs": [],
   "source": [
    "# convert list to Dataframe\n",
    "import pandas as pd\n",
    "tweets_pd = pd.DataFrame(tweets_data,\n",
    "                         columns=['screen_name', 'lang', 'created_at', 'fav_count', 'retweet_count', 'text'])\n",
    "display(tweets_pd)"
   ]
  },
  {
   "cell_type": "markdown",
   "metadata": {},
   "source": [
    "### Menyimpan Data Frame pada File JSON"
   ]
  },
  {
   "cell_type": "code",
   "execution_count": null,
   "metadata": {},
   "outputs": [],
   "source": [
    "class MyListener(StreamListener):\n",
    " \n",
    "    def on_data(self, data):\n",
    "        try:\n",
    "            with open('python.json', 'a') as f:\n",
    "                f.write(data)\n",
    "                return True\n",
    "        except BaseException as e:\n",
    "            print(\"Error on_data: %s\" % str(e))\n",
    "        return True\n",
    " \n",
    "    def on_error(self, status):\n",
    "        print(status)\n",
    "        return True\n",
    " \n",
    "twitter_stream = Stream(auth, MyListener())\n",
    "twitter_stream.filter(track=['#python'])"
   ]
  }
 ],
 "metadata": {
  "kernelspec": {
   "display_name": "Python 3",
   "language": "python",
   "name": "python3"
  },
  "language_info": {
   "codemirror_mode": {
    "name": "ipython",
    "version": 3
   },
   "file_extension": ".py",
   "mimetype": "text/x-python",
   "name": "python",
   "nbconvert_exporter": "python",
   "pygments_lexer": "ipython3",
   "version": "3.7.3"
  }
 },
 "nbformat": 4,
 "nbformat_minor": 2
}
